{
 "cells": [
  {
   "cell_type": "code",
   "execution_count": 2,
   "id": "e224938a-fdc6-4520-8b4a-77a7677176d6",
   "metadata": {},
   "outputs": [
    {
     "name": "stdout",
     "output_type": "stream",
     "text": [
      "   OrderDate   Region  Manager   SalesMan          Item  Units  Unit_price  \\\n",
      "0 2018-01-06     East   Martha  Alexander    Television   95.0      1198.0   \n",
      "1 2018-01-23  Central  Hermann     Shelli  Home Theater   50.0       500.0   \n",
      "2 2018-02-09  Central  Hermann       Luis    Television   36.0      1198.0   \n",
      "3 2018-02-26  Central  Timothy      David    Cell Phone   27.0       225.0   \n",
      "4 2018-03-15     West  Timothy    Stephen    Television   56.0      1198.0   \n",
      "\n",
      "   Sale_amt  \n",
      "0  113810.0  \n",
      "1   25000.0  \n",
      "2   43128.0  \n",
      "3    6075.0  \n",
      "4   67088.0  \n"
     ]
    }
   ],
   "source": [
    "import pandas as pd\n",
    "import numpy as np\n",
    "df = pd.read_excel('SaleData UL Lab.xlsx')\n",
    "print(df.head())"
   ]
  },
  {
   "cell_type": "code",
   "execution_count": 32,
   "id": "77a68e0b-46c9-4d96-ad84-f976822e61b3",
   "metadata": {},
   "outputs": [],
   "source": [
    "region_groups = df.groupby('Region')"
   ]
  },
  {
   "cell_type": "code",
   "execution_count": 40,
   "id": "aa9ccb0d-4ffa-4536-91f6-8219484c7274",
   "metadata": {},
   "outputs": [],
   "source": [
    "def calculate_dissimilarity(customer1, customer2):\n",
    "    dissimilarity = 0\n",
    "    delta = 3\n",
    "    \n",
    "    if customer1['Manager'] != customer2['Manager']:\n",
    "        dissimilarity += 1\n",
    "    if customer1['Manager'] is None or customer2['Manager'] is None:\n",
    "        delta -= 1\n",
    "    \n",
    "    if customer1['SalesMan'] != customer2['SalesMan']:\n",
    "        dissimilarity += 1\n",
    "    if customer1['SalesMan'] is None or customer2['SalesMan'] is None:\n",
    "        delta -= 1\n",
    "    \n",
    "    if customer1['Item'] != customer2['Item']:\n",
    "        dissimilarity += 1\n",
    "    if customer1['Item'] is None or customer2['Item'] is None:\n",
    "        delta -= 1\n",
    "    \n",
    "    if delta == 0:\n",
    "        return 0\n",
    "    \n",
    "    return round(dissimilarity / delta, 2)\n"
   ]
  },
  {
   "cell_type": "code",
   "execution_count": 45,
   "id": "ddf6546c-7e6c-424b-91ea-861d38fbd551",
   "metadata": {},
   "outputs": [
    {
     "name": "stdout",
     "output_type": "stream",
     "text": [
      "Region: Central \n",
      " [[0.   0.   0.   0.   0.   0.   0.   0.   0.   0.   0.   0.   0.   0.\n",
      "  0.   0.   0.   0.   0.   0.   0.   0.   0.   0.  ]\n",
      " [0.67 0.   0.   0.   0.   0.   0.   0.   0.   0.   0.   0.   0.   0.\n",
      "  0.   0.   0.   0.   0.   0.   0.   0.   0.   0.  ]\n",
      " [1.   1.   0.   0.   0.   0.   0.   0.   0.   0.   0.   0.   0.   0.\n",
      "  0.   0.   0.   0.   0.   0.   0.   0.   0.   0.  ]\n",
      " [1.   0.67 1.   0.   0.   0.   0.   0.   0.   0.   0.   0.   0.   0.\n",
      "  0.   0.   0.   0.   0.   0.   0.   0.   0.   0.  ]\n",
      " [0.67 0.   1.   0.67 0.   0.   0.   0.   0.   0.   0.   0.   0.   0.\n",
      "  0.   0.   0.   0.   0.   0.   0.   0.   0.   0.  ]\n",
      " [0.67 0.33 1.   0.67 0.33 0.   0.   0.   0.   0.   0.   0.   0.   0.\n",
      "  0.   0.   0.   0.   0.   0.   0.   0.   0.   0.  ]\n",
      " [1.   1.   1.   1.   1.   1.   0.   0.   0.   0.   0.   0.   0.   0.\n",
      "  0.   0.   0.   0.   0.   0.   0.   0.   0.   0.  ]\n",
      " [0.33 0.67 1.   1.   0.67 0.33 1.   0.   0.   0.   0.   0.   0.   0.\n",
      "  0.   0.   0.   0.   0.   0.   0.   0.   0.   0.  ]\n",
      " [0.33 0.67 1.   1.   0.67 0.67 1.   0.67 0.   0.   0.   0.   0.   0.\n",
      "  0.   0.   0.   0.   0.   0.   0.   0.   0.   0.  ]\n",
      " [1.   0.67 1.   0.67 0.67 0.67 0.33 1.   1.   0.   0.   0.   0.   0.\n",
      "  0.   0.   0.   0.   0.   0.   0.   0.   0.   0.  ]\n",
      " [0.67 1.   0.33 1.   1.   1.   1.   0.67 1.   1.   0.   0.   0.   0.\n",
      "  0.   0.   0.   0.   0.   0.   0.   0.   0.   0.  ]\n",
      " [0.67 1.   1.   1.   1.   1.   0.33 0.67 1.   0.33 0.67 0.   0.   0.\n",
      "  0.   0.   0.   0.   0.   0.   0.   0.   0.   0.  ]\n",
      " [0.67 0.33 1.   1.   0.33 0.67 1.   0.67 0.33 1.   1.   1.   0.   0.\n",
      "  0.   0.   0.   0.   0.   0.   0.   0.   0.   0.  ]\n",
      " [1.   0.67 1.   0.   0.67 0.67 1.   1.   1.   0.67 1.   1.   1.   0.\n",
      "  0.   0.   0.   0.   0.   0.   0.   0.   0.   0.  ]\n",
      " [1.   0.67 0.33 0.67 0.67 0.67 1.   1.   1.   0.67 0.33 1.   1.   0.67\n",
      "  0.   0.   0.   0.   0.   0.   0.   0.   0.   0.  ]\n",
      " [0.67 1.   0.33 1.   1.   1.   1.   0.67 1.   1.   0.   0.67 1.   1.\n",
      "  0.33 0.   0.   0.   0.   0.   0.   0.   0.   0.  ]\n",
      " [0.33 0.67 1.   1.   0.67 0.67 0.67 0.67 0.33 1.   1.   1.   0.67 1.\n",
      "  1.   1.   0.   0.   0.   0.   0.   0.   0.   0.  ]\n",
      " [0.67 0.67 1.   1.   0.67 0.33 1.   0.33 0.33 1.   1.   1.   0.33 1.\n",
      "  1.   1.   0.67 0.   0.   0.   0.   0.   0.   0.  ]\n",
      " [0.33 0.67 1.   1.   0.67 0.67 1.   0.67 0.   1.   1.   1.   0.33 1.\n",
      "  1.   1.   0.33 0.33 0.   0.   0.   0.   0.   0.  ]\n",
      " [1.   0.67 0.33 0.67 0.67 0.67 1.   1.   1.   0.67 0.33 1.   1.   0.67\n",
      "  0.   0.33 1.   1.   1.   0.   0.   0.   0.   0.  ]\n",
      " [1.   0.67 1.   0.   0.67 0.67 1.   1.   1.   0.67 1.   1.   1.   0.\n",
      "  0.67 1.   1.   1.   1.   0.67 0.   0.   0.   0.  ]\n",
      " [0.33 0.33 1.   1.   0.33 0.67 1.   0.33 0.67 1.   0.67 0.67 0.33 1.\n",
      "  1.   0.67 0.67 0.67 0.67 1.   1.   0.   0.   0.  ]\n",
      " [0.33 0.33 1.   1.   0.33 0.67 1.   0.33 0.67 1.   0.67 0.67 0.33 1.\n",
      "  1.   0.67 0.67 0.67 0.67 1.   1.   0.   0.   0.  ]\n",
      " [0.67 1.   1.   0.33 1.   1.   1.   0.67 1.   1.   0.67 0.67 1.   0.33\n",
      "  1.   0.67 1.   1.   1.   1.   0.33 0.67 0.67 0.  ]]\n",
      "Region: East \n",
      " [[0.   0.   0.   0.   0.   0.   0.   0.   0.   0.   0.   0.   0.  ]\n",
      " [0.33 0.   0.   0.   0.   0.   0.   0.   0.   0.   0.   0.   0.  ]\n",
      " [0.33 0.   0.   0.   0.   0.   0.   0.   0.   0.   0.   0.   0.  ]\n",
      " [0.67 0.33 0.33 0.   0.   0.   0.   0.   0.   0.   0.   0.   0.  ]\n",
      " [1.   0.67 0.67 0.67 0.   0.   0.   0.   0.   0.   0.   0.   0.  ]\n",
      " [0.   0.33 0.33 0.67 1.   0.   0.   0.   0.   0.   0.   0.   0.  ]\n",
      " [0.33 0.33 0.33 0.67 1.   0.33 0.   0.   0.   0.   0.   0.   0.  ]\n",
      " [0.33 0.33 0.33 0.67 1.   0.33 0.33 0.   0.   0.   0.   0.   0.  ]\n",
      " [1.   1.   1.   1.   0.33 1.   1.   0.67 0.   0.   0.   0.   0.  ]\n",
      " [1.   1.   1.   1.   0.33 1.   0.67 1.   0.33 0.   0.   0.   0.  ]\n",
      " [0.33 0.   0.   0.33 0.67 0.33 0.33 0.33 1.   1.   0.   0.   0.  ]\n",
      " [0.67 0.67 0.67 0.33 1.   0.67 0.67 0.33 0.67 1.   0.67 0.   0.  ]\n",
      " [0.33 0.33 0.33 0.67 1.   0.33 0.   0.33 1.   0.67 0.33 0.67 0.  ]]\n",
      "Region: West \n",
      " [[0.   0.   0.   0.   0.   0.  ]\n",
      " [0.67 0.   0.   0.   0.   0.  ]\n",
      " [0.33 1.   0.   0.   0.   0.  ]\n",
      " [0.33 1.   0.33 0.   0.   0.  ]\n",
      " [0.33 1.   0.33 0.33 0.   0.  ]\n",
      " [1.   0.33 0.67 1.   1.   0.  ]]\n"
     ]
    }
   ],
   "source": [
    "most_dissimilar_pairs = {}\n",
    "\n",
    "for region, group in region_groups:\n",
    "    n = len(group)\n",
    "    dissimilarity_matrix = np.zeros((n, n)) \n",
    "    for i in range(n):\n",
    "        for j in range(i+1, n):\n",
    "            dissimilarity_matrix[j][i] = calculate_dissimilarity(group.iloc[i], group.iloc[j])\n",
    "            #dissimilarity_matrix[i][j] = dissimilarity_matrix[j][i]  # Symmetric matrix\n",
    "    \n",
    "    print(f\"Region: {region} \\n {dissimilarity_matrix}\")\n",
    "\n",
    "\n",
    "    max_dissimilarity = -1\n",
    "    most_dissimilar_pair = None\n",
    "    for i in range(n):\n",
    "        for j in range(i+1, n):\n",
    "            if dissimilarity_matrix[j][i] > max_dissimilarity:\n",
    "                max_dissimilarity = dissimilarity_matrix[j][i]\n",
    "                most_dissimilar_pair = (group.iloc[j], group.iloc[i])\n",
    "\n",
    "    most_dissimilar_pairs[region] = most_dissimilar_pair"
   ]
  },
  {
   "cell_type": "code",
   "execution_count": 46,
   "id": "e18eb2c8-e454-4707-84c3-a1b10e0d82d6",
   "metadata": {},
   "outputs": [
    {
     "name": "stdout",
     "output_type": "stream",
     "text": [
      "Most dissimilar pairs by region:\n",
      "Region: Central, Pair: David and Shelli, Dissimilarity: 1.0\n",
      "Region: East, Pair: Karen and Alexander, Dissimilarity: 1.0\n",
      "Region: West, Pair: Michael and Stephen, Dissimilarity: 1.0\n"
     ]
    }
   ],
   "source": [
    "print(\"Most dissimilar pairs by region:\")\n",
    "for region, pair in most_dissimilar_pairs.items():\n",
    "    print(f\"Region: {region}, Pair: {pair[0]['SalesMan']} and {pair[1]['SalesMan']}, Dissimilarity: {max_dissimilarity}\")\n"
   ]
  },
  {
   "cell_type": "code",
   "execution_count": null,
   "id": "8d3670e7-4e72-4076-ba86-be0342b0855c",
   "metadata": {},
   "outputs": [],
   "source": []
  }
 ],
 "metadata": {
  "kernelspec": {
   "display_name": "Python 3 (ipykernel)",
   "language": "python",
   "name": "python3"
  },
  "language_info": {
   "codemirror_mode": {
    "name": "ipython",
    "version": 3
   },
   "file_extension": ".py",
   "mimetype": "text/x-python",
   "name": "python",
   "nbconvert_exporter": "python",
   "pygments_lexer": "ipython3",
   "version": "3.12.7"
  }
 },
 "nbformat": 4,
 "nbformat_minor": 5
}
