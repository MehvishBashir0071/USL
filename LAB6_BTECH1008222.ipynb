{
 "cells": [
  {
   "cell_type": "code",
   "execution_count": 2,
   "id": "f210ef95-a3c8-4a53-9a27-0435aa47dddd",
   "metadata": {},
   "outputs": [
    {
     "name": "stdout",
     "output_type": "stream",
     "text": [
      "Cluster Assignments: [1 2 3 3 2 1 1 3 2]\n",
      "Sum of Squared Errors (SSE): 5726.0\n"
     ]
    }
   ],
   "source": [
    "import numpy as np\n",
    "import scipy.cluster.hierarchy as sch\n",
    "from sklearn.cluster import KMeans\n",
    "from scipy.cluster.hierarchy import fcluster\n",
    "\n",
    "x = np.array([53, 22, 45, 47, 21, 59, 60, 40, 25])\n",
    "y = np.array([500, 45, 150, 160, 47, 580, 600, 155, 50])\n",
    "\n",
    "data = np.vstack((x, y)).T\n",
    "Z = sch.linkage(data, method='ward')\n",
    "clusters = fcluster(Z, t=3, criterion='maxclust')\n",
    "\n",
    "sse = 0\n",
    "\n",
    "for cluster_num in range(1, 4):\n",
    "    cluster_points = data[clusters == cluster_num]\n",
    "    centroid = cluster_points.mean(axis=0)\n",
    "    sse += np.sum(np.square(np.linalg.norm(cluster_points - centroid, axis=1)))\n",
    "\n",
    "print(f\"Cluster Assignments: {clusters}\")\n",
    "print(f\"Sum of Squared Errors (SSE): {sse}\")\n"
   ]
  },
  {
   "cell_type": "code",
   "execution_count": null,
   "id": "cef11414-d92e-424d-aeb5-d5e8e2e344ad",
   "metadata": {},
   "outputs": [],
   "source": []
  }
 ],
 "metadata": {
  "kernelspec": {
   "display_name": "Python 3 (ipykernel)",
   "language": "python",
   "name": "python3"
  },
  "language_info": {
   "codemirror_mode": {
    "name": "ipython",
    "version": 3
   },
   "file_extension": ".py",
   "mimetype": "text/x-python",
   "name": "python",
   "nbconvert_exporter": "python",
   "pygments_lexer": "ipython3",
   "version": "3.12.7"
  }
 },
 "nbformat": 4,
 "nbformat_minor": 5
}
